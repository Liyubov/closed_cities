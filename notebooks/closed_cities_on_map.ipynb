{
 "cells": [
  {
   "cell_type": "markdown",
   "id": "shaped-groove",
   "metadata": {},
   "source": [
    "# Strelka final projects \n",
    "## Closed cities \n",
    "\n",
    "Show cities on the map.\n"
   ]
  },
  {
   "cell_type": "code",
   "execution_count": null,
   "id": "cleared-final",
   "metadata": {},
   "outputs": [],
   "source": [
    "import folium\n",
    "m = folium.Map(location=[48.86, 2.33],zoom_start=2 )\n",
    "for i in range(0,len(traffic_final)):\n",
    "    lat = traffic_final.iloc[i]['latitude']\n",
    "    lon = traffic_final.iloc[i]['longitude']\n",
    "    name = traffic_final.iloc[i]['name']\n",
    "    size = traffic_final.iloc[i]['sumtraffic']\n",
    "    folium.CircleMarker([lat, lon], radius=size/50,color='red' , popup=name+'<br>Routes : '+str(size),\n",
    "        fill_color='red').add_to(m)\n",
    "m"
   ]
  },
  {
   "cell_type": "code",
   "execution_count": null,
   "id": "numerous-marina",
   "metadata": {},
   "outputs": [],
   "source": []
  }
 ],
 "metadata": {
  "kernelspec": {
   "display_name": "Python 3",
   "language": "python",
   "name": "python3"
  },
  "language_info": {
   "codemirror_mode": {
    "name": "ipython",
    "version": 3
   },
   "file_extension": ".py",
   "mimetype": "text/x-python",
   "name": "python",
   "nbconvert_exporter": "python",
   "pygments_lexer": "ipython3",
   "version": "3.9.2"
  }
 },
 "nbformat": 4,
 "nbformat_minor": 5
}
